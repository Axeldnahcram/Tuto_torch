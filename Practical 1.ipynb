{
 "cells": [
  {
   "cell_type": "code",
   "execution_count": 8,
   "metadata": {},
   "outputs": [
    {
     "name": "stdout",
     "output_type": "stream",
     "text": [
      "# 1 #\n",
      "tensor([[1., 2., 1., 1., 1., 1., 2., 1., 1., 1., 1., 2., 1.],\n",
      "        [2., 2., 2., 2., 2., 2., 2., 2., 2., 2., 2., 2., 2.],\n",
      "        [1., 2., 1., 1., 1., 1., 2., 1., 1., 1., 1., 2., 1.],\n",
      "        [1., 2., 1., 3., 3., 1., 2., 1., 3., 3., 1., 2., 1.],\n",
      "        [1., 2., 1., 3., 3., 1., 2., 1., 3., 3., 1., 2., 1.],\n",
      "        [1., 2., 1., 1., 1., 1., 2., 1., 1., 1., 1., 2., 1.],\n",
      "        [2., 2., 2., 2., 2., 2., 2., 2., 2., 2., 2., 2., 2.],\n",
      "        [1., 2., 1., 1., 1., 1., 2., 1., 1., 1., 1., 2., 1.],\n",
      "        [1., 2., 1., 3., 3., 1., 2., 1., 3., 3., 1., 2., 1.],\n",
      "        [1., 2., 1., 3., 3., 1., 2., 1., 3., 3., 1., 2., 1.],\n",
      "        [1., 2., 1., 1., 1., 1., 2., 1., 1., 1., 1., 2., 1.],\n",
      "        [2., 2., 2., 2., 2., 2., 2., 2., 2., 2., 2., 2., 2.],\n",
      "        [1., 2., 1., 1., 1., 1., 2., 1., 1., 1., 1., 2., 1.]])\n",
      "tensor([[1., 2., 1., 1., 1., 1., 2., 1., 1., 1., 1., 2., 1.],\n",
      "        [2., 2., 2., 2., 2., 2., 2., 2., 2., 2., 2., 2., 2.],\n",
      "        [1., 2., 1., 1., 1., 1., 2., 1., 1., 1., 1., 2., 1.],\n",
      "        [1., 2., 1., 3., 3., 1., 2., 1., 3., 3., 1., 2., 1.],\n",
      "        [1., 2., 1., 3., 3., 1., 2., 1., 3., 3., 1., 2., 1.],\n",
      "        [1., 2., 1., 1., 1., 1., 2., 1., 1., 1., 1., 2., 1.],\n",
      "        [2., 2., 2., 2., 2., 2., 2., 2., 2., 2., 2., 2., 2.],\n",
      "        [1., 2., 1., 1., 1., 1., 2., 1., 1., 1., 1., 2., 1.],\n",
      "        [1., 2., 1., 3., 3., 1., 2., 1., 3., 3., 1., 2., 1.],\n",
      "        [1., 2., 1., 3., 3., 1., 2., 1., 3., 3., 1., 2., 1.],\n",
      "        [1., 2., 1., 1., 1., 1., 2., 1., 1., 1., 1., 2., 1.],\n",
      "        [2., 2., 2., 2., 2., 2., 2., 2., 2., 2., 2., 2., 2.],\n",
      "        [1., 2., 1., 1., 1., 1., 2., 1., 1., 1., 1., 2., 1.]])\n",
      "# 2 #\n"
     ]
    },
    {
     "ename": "RuntimeError",
     "evalue": "Lapack Error in geev : Illegal Argument 2 at /Users/soumith/code/builder/wheel/pytorch-src/aten/src/TH/generic/THTensorLapack.cpp:335",
     "output_type": "error",
     "traceback": [
      "\u001b[0;31m---------------------------------------------------------------------------\u001b[0m",
      "\u001b[0;31mRuntimeError\u001b[0m                              Traceback (most recent call last)",
      "\u001b[0;32m<ipython-input-8-626c135b7679>\u001b[0m in \u001b[0;36m<module>\u001b[0;34m()\u001b[0m\n\u001b[1;32m     46\u001b[0m \u001b[0md\u001b[0m \u001b[0;34m=\u001b[0m \u001b[0md\u001b[0m\u001b[0;34m.\u001b[0m\u001b[0mfloat\u001b[0m\u001b[0;34m(\u001b[0m\u001b[0;34m)\u001b[0m\u001b[0;34m\u001b[0m\u001b[0m\n\u001b[1;32m     47\u001b[0m \u001b[0mq\u001b[0m \u001b[0;34m=\u001b[0m \u001b[0mm\u001b[0m\u001b[0;34m.\u001b[0m\u001b[0mmm\u001b[0m\u001b[0;34m(\u001b[0m\u001b[0md\u001b[0m\u001b[0;34m)\u001b[0m\u001b[0;34m.\u001b[0m\u001b[0mmm\u001b[0m\u001b[0;34m(\u001b[0m\u001b[0mm\u001b[0m\u001b[0;34m.\u001b[0m\u001b[0minverse\u001b[0m\u001b[0;34m(\u001b[0m\u001b[0;34m)\u001b[0m\u001b[0;34m)\u001b[0m\u001b[0;34m\u001b[0m\u001b[0m\n\u001b[0;32m---> 48\u001b[0;31m \u001b[0mv\u001b[0m\u001b[0;34m,\u001b[0m \u001b[0m_\u001b[0m \u001b[0;34m=\u001b[0m \u001b[0mq\u001b[0m\u001b[0;34m.\u001b[0m\u001b[0meig\u001b[0m\u001b[0;34m(\u001b[0m\u001b[0;34m)\u001b[0m\u001b[0;34m\u001b[0m\u001b[0m\n\u001b[0m\u001b[1;32m     49\u001b[0m \u001b[0mprint\u001b[0m\u001b[0;34m(\u001b[0m\u001b[0;34m'Eigenvalues'\u001b[0m\u001b[0;34m,\u001b[0m \u001b[0mv\u001b[0m\u001b[0;34m.\u001b[0m\u001b[0mnarrow\u001b[0m\u001b[0;34m(\u001b[0m\u001b[0;36m1\u001b[0m\u001b[0;34m,\u001b[0m \u001b[0;36m0\u001b[0m\u001b[0;34m,\u001b[0m \u001b[0;36m1\u001b[0m\u001b[0;34m)\u001b[0m\u001b[0;34m.\u001b[0m\u001b[0msqueeze\u001b[0m\u001b[0;34m(\u001b[0m\u001b[0;34m)\u001b[0m\u001b[0;34m.\u001b[0m\u001b[0msort\u001b[0m\u001b[0;34m(\u001b[0m\u001b[0;34m)\u001b[0m\u001b[0;34m[\u001b[0m\u001b[0;36m0\u001b[0m\u001b[0;34m]\u001b[0m\u001b[0;34m)\u001b[0m\u001b[0;34m\u001b[0m\u001b[0m\n\u001b[1;32m     50\u001b[0m \u001b[0;34m\u001b[0m\u001b[0m\n",
      "\u001b[0;31mRuntimeError\u001b[0m: Lapack Error in geev : Illegal Argument 2 at /Users/soumith/code/builder/wheel/pytorch-src/aten/src/TH/generic/THTensorLapack.cpp:335"
     ]
    }
   ],
   "source": [
    "#!/usr/bin/env python\n",
    "\n",
    "import torch, time\n",
    "\n",
    "from torch import Tensor\n",
    "\n",
    "######################################################################\n",
    "print('# 1 #')\n",
    "\n",
    "m = Tensor(13, 13).fill_(1)\n",
    "\n",
    "m.narrow(0, 1, 1).fill_(2)\n",
    "m.narrow(1, 1, 1).fill_(2)\n",
    "m.narrow(0, 6, 1).fill_(2)\n",
    "m.narrow(1, 6, 1).fill_(2)\n",
    "m.narrow(0, 11, 1).fill_(2)\n",
    "m.narrow(1, 11, 1).fill_(2)\n",
    "\n",
    "m.narrow(0, 3, 2).narrow(1, 3, 2).fill_(3)\n",
    "m.narrow(0, 3, 2).narrow(1, 8, 2).fill_(3)\n",
    "m.narrow(0, 8, 2).narrow(1, 3, 2).fill_(3)\n",
    "m.narrow(0, 8, 2).narrow(1, 8, 2).fill_(3)\n",
    "\n",
    "print(m)\n",
    "\n",
    "######################################################################\n",
    "# numpy style\n",
    "\n",
    "m = Tensor(13, 13).fill_(1)\n",
    "\n",
    "m[3:5,3:5] = 3\n",
    "m[8:10,3:5] = 3\n",
    "m[3:5,8:10] = 3\n",
    "m[8:10,8:10] = 3\n",
    "\n",
    "m[:,1::5] = 2\n",
    "m[1::5,:] = 2\n",
    "\n",
    "print(m)\n",
    "\n",
    "######################################################################\n",
    "print('# 2 #')\n",
    "\n",
    "m = Tensor(20, 20).normal_()\n",
    "d = torch.diag(torch.arange(1, m.size(0)+1))\n",
    "d = d.float()\n",
    "q = m.mm(d).mm(m.inverse())\n",
    "v, _ = q.eig()\n",
    "print('Eigenvalues', v.narrow(1, 0, 1).squeeze().sort()[0])\n",
    "\n",
    "######################################################################\n",
    "print('# 3 #')\n",
    "\n",
    "d = 5000\n",
    "a = Tensor(d, d).normal_()\n",
    "b = Tensor(d, d).normal_()\n",
    "\n",
    "time1 = time.perf_counter()\n",
    "c = torch.mm(a, b)\n",
    "time2 = time.perf_counter()\n",
    "\n",
    "print('Throughput {:e} flop/s'.format((d * d * d)/(time2 - time1)))\n",
    "\n",
    "######################################################################\n",
    "print('# 4 #')\n",
    "\n",
    "def mul_row(m):\n",
    "    r = torch.Tensor(m.size())\n",
    "    for i in range(0, m.size(0)):\n",
    "        for j in range(0, m.size(1)):\n",
    "            r[i, j] = m[i, j] * (i+1)\n",
    "    return r\n",
    "\n",
    "def mul_row_fast(m):\n",
    "    d = m.size(0)\n",
    "    c = torch.arange(1, d + 1).view(d, 1).expand_as(m)\n",
    "\n",
    "    return m.mul(c)\n",
    "\n",
    "m = Tensor(10000, 400).normal_(5.0)\n",
    "\n",
    "time1 = time.perf_counter()\n",
    "a = mul_row(m)\n",
    "time2 = time.perf_counter()\n",
    "b = mul_row_fast(m)\n",
    "time3 = time.perf_counter()\n",
    "\n",
    "print('Speed ratio', (time2 - time1) / (time3 - time2))\n",
    "\n",
    "print('Sanity check: error is ', torch.norm(a - b))\n",
    "\n",
    "######################################################################"
   ]
  },
  {
   "cell_type": "code",
   "execution_count": 1,
   "metadata": {},
   "outputs": [],
   "source": [
    "import torch"
   ]
  },
  {
   "cell_type": "code",
   "execution_count": 2,
   "metadata": {},
   "outputs": [],
   "source": [
    "d = 20\n",
    "m = torch.Tensor(d,d).normal_()\n",
    "m_1 = torch.inverse(m)\n",
    "diag = torch.diag(torch.arange(1,21))\n",
    "diag = diag.float()\n",
    "mul = m_1.mm(diag.mm(m))\n",
    "eig = torch.eig(mul)\n",
    "\n"
   ]
  },
  {
   "cell_type": "markdown",
   "metadata": {},
   "source": [
    "Generate two square matrices of dimension 5000 × 5000 filled with random Gaussian coefficients, compute their product, measure the time it takes, and estimate how many floating point products have been executed per second (should be in the billions or tens of billions).\n",
    "\n",
    "Use torch.normal , torch.mm , and time.perf counter ."
   ]
  },
  {
   "cell_type": "code",
   "execution_count": 13,
   "metadata": {},
   "outputs": [
    {
     "name": "stdout",
     "output_type": "stream",
     "text": [
      "Time is 1.5133522740215994\n",
      "82598085155.56235\n"
     ]
    }
   ],
   "source": [
    "import time\n",
    "d = 5000\n",
    "m1 = torch.Tensor(d, d).normal_()\n",
    "m2 = torch.Tensor(d, d).normal_()\n",
    "t1 = time.perf_counter()\n",
    "mul = m1.mm(m2)\n",
    "t2 = time.perf_counter()\n",
    "print(f\"Time is {t2-t1}\")\n",
    "print((d*d*d)/(t2-t1))"
   ]
  },
  {
   "cell_type": "code",
   "execution_count": 14,
   "metadata": {},
   "outputs": [
    {
     "name": "stdout",
     "output_type": "stream",
     "text": [
      "# 3 #\n",
      "Throughput 8.369771e+10 flop/s\n",
      "1.4934698089782614\n"
     ]
    }
   ],
   "source": [
    "print('# 3 #')\n",
    "\n",
    "d = 5000\n",
    "a = Tensor(d, d).normal_()\n",
    "b = Tensor(d, d).normal_()\n",
    "\n",
    "time1 = time.perf_counter()\n",
    "c = torch.mm(a, b)\n",
    "time2 = time.perf_counter()\n",
    "\n",
    "print('Throughput {:e} flop/s'.format((d * d * d)/(time2 - time1)))\n",
    "print(time2- time1)"
   ]
  },
  {
   "cell_type": "markdown",
   "metadata": {},
   "source": [
    "# Playing with strides\n",
    "\n",
    "Write a function mul row , using python loops, that gets a 2d tensor as argument, and returns a tensor of same size, equal to the one given as argument, with the first row kept unchanged, the second multiplied by two, the third by three, etc. \n",
    "\n",
    "Then, write a second version named mul row fast , using tensor operations.\n",
    "Apply both versions to a matrix of size 10, 000 × 400 and measure the time each takes (there should\n",
    "be more than two orders of magnitude difference).\n",
    "Hint: Use torch.arange , torch.view , torch.expand as , torch.mul , and time.perf counter ."
   ]
  },
  {
   "cell_type": "code",
   "execution_count": 20,
   "metadata": {},
   "outputs": [],
   "source": [
    "def mul_row(tensor):\n",
    "    r = torch.Tensor(m.size())\n",
    "    for i in range(len(tensor)):\n",
    "        r[i,:] = (i+1)*tensor[i,:]\n",
    "    return r"
   ]
  },
  {
   "cell_type": "code",
   "execution_count": 21,
   "metadata": {},
   "outputs": [
    {
     "data": {
      "text/plain": [
       "tensor([[2., 2., 2., 2., 2., 2., 2., 2.],\n",
       "        [4., 4., 4., 4., 4., 4., 4., 4.],\n",
       "        [6., 6., 6., 6., 6., 6., 6., 6.],\n",
       "        [8., 8., 8., 8., 8., 8., 8., 8.]])"
      ]
     },
     "execution_count": 21,
     "metadata": {},
     "output_type": "execute_result"
    }
   ],
   "source": [
    "m = torch.Tensor(4,8).fill_(2.0)\n",
    "mul_row(m)"
   ]
  },
  {
   "cell_type": "code",
   "execution_count": null,
   "metadata": {},
   "outputs": [],
   "source": []
  }
 ],
 "metadata": {
  "kernelspec": {
   "display_name": "Python 3",
   "language": "python",
   "name": "python3"
  },
  "language_info": {
   "codemirror_mode": {
    "name": "ipython",
    "version": 3
   },
   "file_extension": ".py",
   "mimetype": "text/x-python",
   "name": "python",
   "nbconvert_exporter": "python",
   "pygments_lexer": "ipython3",
   "version": "3.6.5"
  }
 },
 "nbformat": 4,
 "nbformat_minor": 2
}
